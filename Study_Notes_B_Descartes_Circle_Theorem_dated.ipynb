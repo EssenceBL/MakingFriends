{
  "cells": [
    {
      "cell_type": "markdown",
      "metadata": {
        "id": "view-in-github",
        "colab_type": "text"
      },
      "source": [
        "<a href=\"https://colab.research.google.com/github/EssenceBL/MakingFriends/blob/main/Study_Notes_B_Descartes_Circle_Theorem_dated.ipynb\" target=\"_parent\"><img src=\"https://colab.research.google.com/assets/colab-badge.svg\" alt=\"Open In Colab\"/></a>"
      ]
    },
    {
      "cell_type": "markdown",
      "source": [
        "**Foreword**\n",
        "\n",
        "This series of Colab notebooks contains study notes related to Descartes' Circle Theorem. The motivation for this work originated from attending Professor Peter Sarnak's Shaw Prize Lecture in Mathematical Sciences in 2024. Not only does his lecture begin with Descartes' Circle Theorem, but he also provides significant insights into the importance of establishing a \"base\" for one’s long-term endeavors. Reflecting on his remarks, I believe that exploring mathematical concepts through Python code could serve as my \"base,\" drawing from prior experiences; thus, I produced this series of Colab notebooks. Some of the code comes from iterative collaboration with DeepSeek, representing an experiment that integrates traditional mathematical mindsets with contemporary computational methodologies.\n",
        "\n",
        "YK with DeepSeek, 2025\n",
        "\n",
        "Like other Colab notebooks, please run the code cells one by one. In particular, the following code cell concerns the dependency packages and needs to be run first. It might take a while, so please be patient."
      ],
      "metadata": {
        "id": "-f-qTN4OXUU6"
      }
    },
    {
      "cell_type": "code",
      "execution_count": null,
      "metadata": {
        "id": "TgpoV1M3p5qO"
      },
      "outputs": [],
      "source": [
        "import IPython.display as display"
      ]
    },
    {
      "cell_type": "markdown",
      "source": [
        "**A Harder Problem**\n",
        "\n",
        "***Descartes' Circle Theorem*** concerns with a harder problem: let $C_1$, $C_2$ and $C_3$ be three mutually tangent circles, with corresponding curvatures $b_1$, $b_2$ and $b_3$; and let $C_4$ be a circle with curvature $b_4$ being tangent to all $C_1$, $C_2$ and $C_3$, can one derive a symmetric relation between $b_1$, $b_2$, $b_3$ and $b_4$?\n",
        "\n",
        "<img src=\"https://drive.google.com/uc?id=1jyX7UqFh7uZk31XuKsvwUCr02rfgjXja\" width=\"50%\">\n",
        "\n",
        "Descartes' Circle Theorem gives an affirmative answer to this question. First, here we shall see how such a tangent circle $C_4$ can be constructed from any given mutually tangent $C_1$, $C_2$ and $C_3$. One construction method follows from the use of ***inversion***.\n"
      ],
      "metadata": {
        "id": "lhgIE8a-Yxtg"
      }
    },
    {
      "cell_type": "markdown",
      "metadata": {
        "id": "ybSCFysg17LE"
      },
      "source": [
        "**Inversion**\n",
        "\n",
        "An inversion is a transformation in the plane with a reference circle $C$.\n",
        "Given any reference circle $C$ with center $O$ and radius $r$, the inversion maps any point $P$ distinct from $O$ to a point $P'$ on the line ray $OP$, such that OP and OP' is in the same direction, and that\n",
        "$$|OP||OP'|=r^2$$\n",
        "\n",
        "This map fixes points on circle $C$, turns interior points outside, and inverts exterior points inside. (To extend the map for completion, typically one can  the map the center $O$ mapped to a \"point at infinity,\" and vice versa.)\n",
        "\n",
        "The follow code cell embeded Geogebra for an interactive plot for this map. Given a reference circle $C$, you may drag the point $P$ and see how its inversion $P'$ move."
      ]
    },
    {
      "cell_type": "code",
      "source": [
        "fig01 = \"\"\"<iframe src=\"https://www.geogebra.org/calculator/shcpy9rh?embed\" width=\"800\" height=\"600\" allowfullscreen style=\"border: 1px solid #e4e4e4;border-radius: 4px;\" frameborder=\"0\"></iframe>\"\"\"\n",
        "display.HTML(fig01)\n"
      ],
      "metadata": {
        "colab": {
          "base_uri": "https://localhost:8080/",
          "height": 657
        },
        "id": "6POycjViKFNE",
        "outputId": "0050b4d5-3176-4a96-9c97-bfc59a8878e3"
      },
      "execution_count": null,
      "outputs": [
        {
          "output_type": "stream",
          "name": "stderr",
          "text": [
            "/usr/local/lib/python3.11/dist-packages/IPython/core/display.py:724: UserWarning: Consider using IPython.display.IFrame instead\n",
            "  warnings.warn(\"Consider using IPython.display.IFrame instead\")\n"
          ]
        },
        {
          "output_type": "execute_result",
          "data": {
            "text/plain": [
              "<IPython.core.display.HTML object>"
            ],
            "text/html": [
              "<iframe src=\"https://www.geogebra.org/calculator/shcpy9rh?embed\" width=\"800\" height=\"600\" allowfullscreen style=\"border: 1px solid #e4e4e4;border-radius: 4px;\" frameborder=\"0\"></iframe>"
            ]
          },
          "metadata": {},
          "execution_count": 2
        }
      ]
    },
    {
      "cell_type": "markdown",
      "source": [
        "**Useful Properties of Inversion**\n",
        "\n",
        "Given a reference circle $C$ with center $O$ and radius $r$, inversion of objects on the plane can be done in a pointwise manner. Let's look into some properties of inversion that would be useful to us:\n",
        "\n",
        "1.   Inversion preserves incidence.\n",
        "2.   Inversion is involutory. (Suppose the inversion in $C$ sends $P$ to $P'$ and $P'$ to $P''$, then $P=P''$.)\n",
        "3.   If $C_1$ is a circle that does not go through $O$, then the inversion in $C$ sends $C_1$ to a circle $C_1'$;\n",
        "4.   If $C_1$ is a circle that goes through $O$, then the inversion in $C$ sends $C_1$ to a straight line not through $O$;\n",
        "5.   If $L_1$ is a straight line not through $O$, then the inversion in $C$ sends $L_1$ to a circle through $O$.\n",
        "6.   If $L_1$ is a straight line through $O$, then the inversion in $C$ sends $L_1$ to itself.\n",
        "\n",
        "Property 1 and Property 2 follows from the definition of inversion. By considering straight lines as generalised circles, properties 3-6 implies that inversion maps generalised circles to generalised circles. Let's looks into some cases in more details:\n",
        "\n",
        "Given the fixed reference circle $C$ with radius $r$ and center $O$, let's study the inversion of a circle $C_1$ with radius $\\rho$ and its center distance $d$ from $O$. There are three cases:\n",
        "\n",
        "(I) $d > r$, i.e. $O$ is an exterior point of $C_1$;\n",
        "\n",
        "(II) $d < r$, i.e. $O$ is an interior point of $C_1$;\n",
        "\n",
        "(III) $d = r$, i.e. $O$ lies $C_1$;\n",
        "\n"
      ],
      "metadata": {
        "id": "epR2GByIKN9b"
      }
    },
    {
      "cell_type": "markdown",
      "source": [
        "**For case (I)**, one can construct two tangent lines from $O$ to $C_1$ meeting at points $P_1$ and $P_2$ respectively. Now, let $A$ be any other point of $C_1$, the line ray $OA$ will cut the circle $C_1$ at one more point, say $B$. Take inversion in $C$, these points on $C_1$ are sent to $P_1'$ and $P_2'$, $A'$ and $B'$ correspondingly.\n",
        "\n",
        "By the definition of inversion,\n",
        "$|OP_1||OP_1'|=|OA||OA'|\\implies \\frac{|OP_1|}{|OA|}=\\frac{|OA'|}{|OP_1'|} \\implies \\triangle OP_1A ∼ \\triangle OA'P_1'$,\n",
        "\n",
        "and similarly, $|OP_1||OP_1'|=|OB||OB'|\\implies \\frac{|OP_1|}{|OB|}=\\frac{|OB'|}{|OP_1'|} \\implies \\triangle OP_1B ∼ \\triangle OB'P_1'$,\n",
        "\n",
        "By properties of similar triangles and tangent line, observe that\n",
        "$\\angle P_1'B'O = \\angle BP_1O = \\angle P_1AO = \\angle A'P_1'O$. This implies that $P_1'B' \\parallel P_1A$ and $A'P_1' \\parallel BP_1$. In other words, with the role of $A$ and $B$ swapped, $\\triangle P_1'A'B'$ is a dilation of $\\triangle PBA$ from the center $O$ with a ratio $\\frac{|OP'_1|}{|OP_1|}$. Therefore, inversion in $C$, the circle $C_1$ is mapped to another inverted circle $C'_1$ whose radius $\\rho'$ can be computed as follows:\n",
        "$$\\rho' = \\frac{\\rho|OP'_1|}{|OP_1|}= \\frac{\\rho|OP'_1||OP_1|}{|OP'_1|^2}=\\frac{\\rho r^2}{d^2-\\rho^2}.$$.  \n",
        "\n",
        "Although a circle is mapped to a circle in inversion, it is also important to remind that the center of a circle does not necessarily remains a center after inversion.\n",
        "\n",
        "In the following code cell, you may vary the choose of $A$ by draging on the interactive plot."
      ],
      "metadata": {
        "id": "wHDe1pUKKPsz"
      }
    },
    {
      "cell_type": "code",
      "source": [
        "fig02 = \"\"\"<iframe src=\"https://www.geogebra.org/calculator/hq6n6c8v?embed\" width=\"800\" height=\"600\" allowfullscreen style=\"border: 1px solid #e4e4e4;border-radius: 4px;\" frameborder=\"0\"></iframe>\"\"\"\n",
        "display.HTML(fig02)\n"
      ],
      "metadata": {
        "colab": {
          "base_uri": "https://localhost:8080/",
          "height": 622
        },
        "id": "ZzauX4Q9KIEj",
        "outputId": "739127c5-95d7-4157-d0dd-53e234e6068c"
      },
      "execution_count": null,
      "outputs": [
        {
          "output_type": "execute_result",
          "data": {
            "text/plain": [
              "<IPython.core.display.HTML object>"
            ],
            "text/html": [
              "<iframe src=\"https://www.geogebra.org/calculator/hq6n6c8v?embed\" width=\"800\" height=\"600\" allowfullscreen style=\"border: 1px solid #e4e4e4;border-radius: 4px;\" frameborder=\"0\"></iframe>"
            ]
          },
          "metadata": {},
          "execution_count": 3
        }
      ]
    },
    {
      "cell_type": "markdown",
      "source": [
        "**For case (II)**, one can construct a line joining the center of $C$ and $C'$. Let such a line meet $C_1$ at $P_1$ and $P_2$, so that $P_1P_2$ is a diameter of $C_1$ and any other point $A$ on $C_1$ satisfy $\\angle P_1AP_2 = 90°.$ The inversion in $C$ maps $P_1$, $P_2$ and $A$ to $P_1'$, $P_2'$ and $A'$ respectively.\n",
        "\n",
        "Observe that $|OP_1||OP_1'|=|OA||OA'|\\implies \\frac{|OP_1|}{|OA|}=\\frac{|OA'|}{|OP_1'|} \\implies \\triangle OP_1A ∼ \\triangle OA'P_1'$,\n",
        "\n",
        "and similarly, $|OP_2||OP_2'|=|OA||OA'|\\implies \\frac{|OP_2|}{|OA|}=\\frac{|OA'|}{|OP_2'|} \\implies \\triangle OP_2A ∼ \\triangle OA'P_2'$.\n",
        "\n",
        "Now, compute\n",
        "\n",
        " $\\angle P_1'A'P_2' = \\angle P_1'A'O + \\angle OA'P_2' = \\angle AP_1O + \\angle OP_2A = \\angle AP_1P_2 + \\angle P_1P_2A = 180° - \\angle P_1AP_2 = 90°.$\n",
        "\n",
        "Therefore $A'$ lies on a circle with diameter $P_1'P_2'$. And compute,\n",
        "\n",
        "$$|P_1'P_2'| = |P_1'O| + |OP_2'| = \\frac{r^2}{|P_1O|}+\\frac{r^2}{|OP_2|} = \\frac{r^2}{\\rho - d}+\\frac{r^2}{\\rho + d} = \\frac{2\\rho r^2}{\\rho^2-d^2}.$$\n",
        "\n",
        "That is,  inversion in $C$, the circle $C_1$ with radius $\\rho$ is mapped to a circle $C_1'$ with radius\n",
        "\n",
        "$$\\rho'=-\\frac{\\rho r^2}{d^2-\\rho^2}.$$\n",
        "\n",
        "This minus sign could later just make cancellation of an assigned sign for curvature of a circle when viewing from interior verus exterior. Combining case (I) and (II), property 3 is now verified.\n",
        "\n",
        "In the following code cell, you may vary the choose of $A$ by draging on the interactive plot."
      ],
      "metadata": {
        "id": "IBGPF19MUOiL"
      }
    },
    {
      "cell_type": "code",
      "execution_count": null,
      "metadata": {
        "colab": {
          "base_uri": "https://localhost:8080/",
          "height": 622
        },
        "id": "Cj_bCInoCyy5",
        "outputId": "9c9a1746-11fb-49b8-cbe9-06a175ef8b26"
      },
      "outputs": [
        {
          "output_type": "execute_result",
          "data": {
            "text/plain": [
              "<IPython.core.display.HTML object>"
            ],
            "text/html": [
              "<iframe src=\"https://www.geogebra.org/calculator/gwjmm7br?embed\" width=\"800\" height=\"600\" allowfullscreen style=\"border: 1px solid #e4e4e4;border-radius: 4px;\" frameborder=\"0\"></iframe>"
            ]
          },
          "metadata": {},
          "execution_count": 4
        }
      ],
      "source": [
        "fig03 = \"\"\"<iframe src=\"https://www.geogebra.org/calculator/gwjmm7br?embed\" width=\"800\" height=\"600\" allowfullscreen style=\"border: 1px solid #e4e4e4;border-radius: 4px;\" frameborder=\"0\"></iframe>\"\"\"\n",
        "display.HTML(fig03)\n"
      ]
    },
    {
      "cell_type": "markdown",
      "source": [
        "**For case (III)**, one can construct a point $P$ on $C_1$ such that $OP$ is a diameter of $P$. Let $A$ be any other point of $C_1$. Accordingly, let $P'$ and $A'$ be inversion points of $P$ and $A$ in $C$.\n",
        "\n",
        "Observe that $|OP||OP'|=|OA||OA'|\\implies \\frac{|OP|}{|OA|}=\\frac{|OA'|}{|OP'|} \\implies \\triangle OAP ∼ \\triangle OP'A'$\n",
        "\n",
        "Since $OP$ is a diameter of $C'$, $\\angle OAP = 90°$. So $\\angle OP'A' = 90°$ by corresponding angle of similar triangles. This means that $A'$ lies on a line perpendicular to $OP'$ at $P'$. Call this line $L'$. One can also see that any point on $L'$ is the inversion in $C$ of a certain point on $C_1$ by drawing a line joining this point back to $O$.\n",
        "\n",
        "Suppose further the line $L_1'$ is at a distance $d = |OP'|$ from $O$, one could compute a a relation between $\\rho$ and $d$ by $$|OP||OP'|=r^2 \\implies \\rho = \\frac{r^2}{2d}$$\n",
        "\n",
        "From case (III), property 4 is proved.\n",
        "\n",
        "In the following code cell, you may vary the choose of $A$ by draging on the interactive plot."
      ],
      "metadata": {
        "id": "oRZxvDBUKV57"
      }
    },
    {
      "cell_type": "code",
      "execution_count": null,
      "metadata": {
        "colab": {
          "base_uri": "https://localhost:8080/",
          "height": 622
        },
        "id": "oqpEKg7JqGP9",
        "outputId": "e5ad5574-428d-4b16-b682-23389611c617"
      },
      "outputs": [
        {
          "output_type": "execute_result",
          "data": {
            "text/plain": [
              "<IPython.core.display.HTML object>"
            ],
            "text/html": [
              "<iframe src=\"https://www.geogebra.org/calculator/h57tfs9u?embed\" width=\"800\" height=\"600\" allowfullscreen style=\"border: 1px solid #e4e4e4;border-radius: 4px;\" frameborder=\"0\"></iframe>"
            ]
          },
          "metadata": {},
          "execution_count": 5
        }
      ],
      "source": [
        "fig04 = \"\"\"<iframe src=\"https://www.geogebra.org/calculator/h57tfs9u?embed\" width=\"800\" height=\"600\" allowfullscreen style=\"border: 1px solid #e4e4e4;border-radius: 4px;\" frameborder=\"0\"></iframe>\"\"\"\n",
        "display.HTML(fig04)\n"
      ]
    },
    {
      "cell_type": "markdown",
      "source": [
        "Property 5 can be proved similarly. And property 6 is obvious. We shall now use these properties and computation to study Descartes' Circle Theorem."
      ],
      "metadata": {
        "id": "z4oizA3QRBx_"
      }
    },
    {
      "cell_type": "markdown",
      "metadata": {
        "id": "zVMXTAECqFEU"
      },
      "source": [
        "**Descartes' Circle Theorem**\n",
        "\n",
        "Descartes' Circle Theorem goes like this. Let $C_1$, $C_2$, $C_3$ and $C_4$ be four mutually tangent circles at six disjoint points. Let $b_1$, $b_2$, $b_3$ and $b_4$ be their respective curvatures, then the following symmetric relation holds:\n",
        "\n",
        "$$(b_1+b_2+b_3+b_4)^2=2(b_1^2+b_2^2+b_3^2+b_4^2).$$"
      ]
    },
    {
      "cell_type": "markdown",
      "source": [
        "\n",
        "\n",
        "To prove the theorem, let's begin with three circles $C_1$, $C_2$ and $C_3$  mutually tangent at disjoint points $ T_{i,j}$ between $C_i$ and $C_j$ for $1\\leq i,j \\leq 3$. Suppose $C_4$ is a forth circle simultaneously tangent to all these three circles, the plan is to try construct $C_4$ as follows:\n",
        "\n",
        "Let $C$ be a circle with center $T_{1,2}$, with radius $r$. For convenience of later visualization and computation, we may choose $r$ so that it is larger than diameters of both $C_1$ and $C_2$. Then in inversion of $C$, $C_1$ is mapped to a straight line, say $L_1'$; $C_2$ is mapped to a straight line, say $L_2'$; $C_3$ is mapped to a circle $C_3'$. Since inversion preserves incidence and that $ T_{1,2} $, the only incidence point of $C_1$ and $C_2$, is mapped to the point of infinity, $L_1'$ and $L_2'$ must be a pair of parallel lines. Moreover, $C_3'$ must be a circle tangent to this pair of parallel lines.\n",
        "\n",
        "Now, we can choose a Cartesian coordinate system, such that the origin is the center of $C_3'$, the unit is the radius of $C_3'$, the direction of the parallel lines is the $x$-direction, the equation of $L_1'$ is $y=1$, and the equation of $L_2'$ is $y=-1$. To find generalized circle simultaneously tangent to $L_1'$, $L_2'$ and $C_3'$, one can easily spot that there are exactly two:\n",
        "\n",
        "*   $C_{4+}'$ a circle centered at $(2,0)$ with radius $1$ unit; and\n",
        "*   $C_{4-}'$ a circle centered at $(-2,0)$ with radius $1$ unit.\n",
        "\n",
        "The configuaration is easier to spot after inversion. Moreover, inversion is involutory, now one can simple use inversion in $C$ again, map $C_{4+}'$ to $C_{4+}$ and map $C_{4-}'$ to $C_{4-}$. Since inversion preserves incidence, both $C_{4+}$ and $C_{4-}$ are tangential to $C_1$, $C_2$ and $C_3$ simultaneously. One can then do some exercise to compute and verify the symmetric relation of curvature in the Descartes' Circle Theorem.\n",
        "\n",
        "Note that any choice of coordinates could be transform to our specific coordinate system by means of translation, rotation reflection and dilation. The choice of coordinates does not affect the geometric construction we made here and does not harm the symmetric relation of curvature with all terms in the same degree. The choice of coordinates only makes computation easier.\n",
        "\n",
        "\n",
        "The following code cell runs an interactive plot in Geogebra the above construction."
      ],
      "metadata": {
        "id": "7KnsFZURnoXA"
      }
    },
    {
      "cell_type": "code",
      "source": [],
      "metadata": {
        "id": "kRPkzS7TmS81"
      },
      "execution_count": null,
      "outputs": []
    },
    {
      "cell_type": "code",
      "execution_count": null,
      "metadata": {
        "colab": {
          "base_uri": "https://localhost:8080/",
          "height": 622
        },
        "id": "w-eGsO6iq0g7",
        "outputId": "79f194a7-acc9-4a6e-b27f-8a540ad34263"
      },
      "outputs": [
        {
          "output_type": "execute_result",
          "data": {
            "text/plain": [
              "<IPython.core.display.HTML object>"
            ],
            "text/html": [
              "<iframe src=\"https://www.geogebra.org/calculator/qvajpeyn?embed\" width=\"1080\" height=\"600\" allowfullscreen style=\"border: 1px solid #e4e4e4;border-radius: 4px;\" frameborder=\"0\"></iframe>"
            ]
          },
          "metadata": {},
          "execution_count": 6
        }
      ],
      "source": [
        "fig06 = \"\"\"<iframe src=\"https://www.geogebra.org/calculator/qvajpeyn?embed\" width=\"1080\" height=\"600\" allowfullscreen style=\"border: 1px solid #e4e4e4;border-radius: 4px;\" frameborder=\"0\"></iframe>\"\"\"\n",
        "display.HTML(fig06)"
      ]
    },
    {
      "cell_type": "markdown",
      "metadata": {
        "id": "EpdzQOAyqz1V"
      },
      "source": [
        "With a good choice of inversion, the construction of the forth touching circle is made easy. Now let's do some computation to reach the symmetric relation on curvature in Descartes' Circle Theorem.\n",
        "\n",
        "Two things need special care: one is that the choice of coordinate system may change the metrics and measurements, say by a factor of $k$; the other is that the sign of curvature for a generalized circle may become negative when the perspective changes from interior to exterior, or vice versa. By means of a generalized circle, we include the case of a straight line; the formula that measures how far a point is from a straight line differs by a negative sign when the point is on the other side.\n",
        "\n",
        "Denote by $b_1$, $b_2$, $b_3$, $b_{4+}$ and $b_{4-}$ the curvatures of $C_1$, $C_2$, $C_3$, $C_{4+}$ and $C_{4-}$, respectively. Let coordinates of $T_{1,2}$ be $(x,y)$, radius be $r$, and factor of dilation in choice of coordinates be $k$. We compute the curvatures as the reciprocals of the radii using the formula discussed previously in this notebook. Considering the negative sign when necessary, we have the following:\n",
        "\n",
        "\\begin{align*}\n",
        "\\frac{k}{b_1} = \\frac{r^2}{2(1-y)} \\implies & b_1= \\frac{2(1-y)k}{r^2},\\\\\n",
        "\\frac{k}{b_2} = \\frac{r^2}{2(1+y)} \\implies & b_2= \\frac{2(1+y)k}{r^2},\\\\\n",
        "\\frac{k}{b_3} = \\frac{r^2}{((x-0)^2+(y-0)^2)-1} \\implies & b_3= \\frac{(x^2+y^2-1)k}{r^2},\\\\\n",
        "\\frac{k}{b_{4\\pm}} = \\frac{r^2}{((x\\mp 2)^2+(y-0)^2)-1} \\implies & b_{4\\pm}= \\frac{(x^2+y^2\\mp 4x +3)k}{r^2}\n",
        "\\end{align*}\n",
        "\n",
        "One is now ready to compute:\n",
        "\\begin{align*}\n",
        "&b_1 + b_2 + b_3 + b_{4\\pm} = \\frac{2k}{r^2}(x^2+y^2 \\mp 2x +3),\\\\\n",
        "&(b_1 + b_2 + b_3 + b_{4\\pm})^2 = \\frac{4k^2}{r^4}(x^2+y^2 \\mp 2x +3)^2, \\text{ and}\\\\\n",
        "&b_1^2 + b_2^2 + b_3^2 + b_{4\\pm}^2 \\\\\n",
        "=& \\frac{k^2}{r^4}[(2-2y)^2+(2+2y)^2+(x^2+y^2-1)^2+(x^2+y^2\\mp 4x+3)^2]\\\\\n",
        "=&\\frac{k^2}{r^4}[(2-2y)^2+(2+2y)^2 + ((x^2+y^2 \\mp 2x +1) + (\\pm 2x -2))^2 + ((x^2+y^2\\mp 2x +1) - (\\pm 2x -2))^2]\\\\\n",
        "=&\\frac{2k^2}{r^4}[2^2+(2y)^2 + (x^2+y^2\\mp 2x +1)^2 + (\\pm 2x -2)^2]\\\\\n",
        "=&\\frac{2k^2}{r^4}[4 + 4y^2 +( x^2+y^2\\mp 2x +1)^2 + 4x^2 \\mp 8x + 4]\\\\\n",
        "=&\\frac{2k^2}{r^4}[ (x^2+y^2\\mp 2x +1)^2 +4(x^2+y^2\\mp 2x +1) + 4]\\\\\n",
        "=&\\frac{2k^2}{r^4}[(x^2+y^2\\mp 2x +1) + 2]^2\\\\\n",
        "=&\\frac{2k^2}{r^4}(x^2+y^2\\mp 2x +3)^2.\n",
        "\\end{align*}\n",
        "\n",
        "Therefore, one shall get the symmetric relation on $b_1$, $b_2$, $b_3$ and $b_4$ for both $b_4 = b_{4+}$ and $b_4 = b_{4-}$ as desired:\n",
        "\n",
        "$$(b_1 + b_2 + b_3 + b_4)^2 = 2(b_1^2 + b_2^2 + b_3^2 + b_4^2).$$\n",
        "\n",
        "Q.E.D.\n",
        "\n"
      ]
    },
    {
      "cell_type": "code",
      "source": [],
      "metadata": {
        "id": "nVx2-7KrxBmz"
      },
      "execution_count": null,
      "outputs": []
    }
  ],
  "metadata": {
    "colab": {
      "provenance": [],
      "authorship_tag": "ABX9TyNLWpfrnXL2DdHJmEFlZ12T",
      "include_colab_link": true
    },
    "kernelspec": {
      "display_name": "Python 3",
      "name": "python3"
    },
    "language_info": {
      "name": "python"
    }
  },
  "nbformat": 4,
  "nbformat_minor": 0
}