{
  "nbformat": 4,
  "nbformat_minor": 0,
  "metadata": {
    "colab": {
      "provenance": [],
      "authorship_tag": "ABX9TyOarOxjzDvRWWwXCgLkPxFK",
      "include_colab_link": true
    },
    "kernelspec": {
      "name": "python3",
      "display_name": "Python 3"
    },
    "language_info": {
      "name": "python"
    }
  },
  "cells": [
    {
      "cell_type": "markdown",
      "metadata": {
        "id": "view-in-github",
        "colab_type": "text"
      },
      "source": [
        "<a href=\"https://colab.research.google.com/github/EssenceBL/MakingFriends/blob/main/Information_Retrieval.ipynb\" target=\"_parent\"><img src=\"https://colab.research.google.com/assets/colab-badge.svg\" alt=\"Open In Colab\"/></a>"
      ]
    },
    {
      "cell_type": "markdown",
      "source": [
        "**Background**\n",
        "\n",
        "One tells a tale to summer interns of the year to provide them with some relaxing moments.\n",
        "\n",
        "--YK 2023, with assistance from Sage\n",
        "\n",
        "**A Question on Information Retrieval**\n",
        "\n",
        "One is given $n$ pieces of information, let's say $n$ numbers; and $2n$ distinguishable storage units, each of which can store a piece of information computed from the given $n$  numbers  . A robust scheme could tolerate damage in storing devices to certain extent. Could one define a storing scheme so that the origin $n$ pieces of information can be retrieved from any $n$ undamaged distinguishable storage units remain?\n",
        "\n",
        "**Toy Cases**\n",
        "\n",
        "The case when $n=1$ is trivial. We can just duplicate that number so that any one of the $2$ storage units contains the same origin information.\n",
        "\n",
        "We need to think about the case when $n=2$. Let's begin with some numbers $a$ and $b$. The question didn't specify any number field; so it could be a Galois field, a prime field, the set of complex numbers, or maybe just the set of real numbers. Let's assume we are talking about the floating points for the time being for easy coding here.\n",
        "\n",
        "To begin with, we are given $4$ distinguishable storage units $S_0,S_1,S_2,S_3$, each of which can store a number; let's say a floating point for the time being.\n",
        "\n"
      ],
      "metadata": {
        "id": "BULz-cL895jJ"
      }
    },
    {
      "cell_type": "code",
      "execution_count": 1,
      "metadata": {
        "colab": {
          "base_uri": "https://localhost:8080/"
        },
        "id": "VBpgZSs8B25k",
        "outputId": "5989bab2-6e36-4981-b944-992334f0baee"
      },
      "outputs": [
        {
          "output_type": "stream",
          "name": "stdout",
          "text": [
            "Given information a: 11.0\n",
            "Given information b: 15.0\n"
          ]
        }
      ],
      "source": [
        "# @title Input 2 numbers\n",
        "a = 11.0 # @param {type:\"number\"}\n",
        "b = 15.0 # @param {type:\"number\"}\n",
        "print(f\"Given information a: {a}\")\n",
        "print(f\"Given information b: {b}\")"
      ]
    },
    {
      "cell_type": "markdown",
      "source": [
        "**Computation for Storage and Retrieval**\n",
        "\n",
        "Now, we have a simple plan that might just work. Recall the graph of a non-vertical line can be given by its point-slope form $y=f(x)=a+bx$; and that this line is uniquely determined by any two points on it.\n",
        "\n",
        "Then we can just assign to each storage $S_i=f(i)$ for $i=0,1,2,3$. For any two distinguishable storage units $S_i$ and $S_j$ where $i\\neq j$, we can retrieve $a$ and $b$ by $b=\\frac{S_i-S_j}{i-j}$ and $a=f(S_i)-ib$ accordingly.\n"
      ],
      "metadata": {
        "id": "szPDK4_dDdIf"
      }
    },
    {
      "cell_type": "code",
      "source": [
        "import numpy as np\n",
        "def compute(a,b,i):\n",
        "  return a+b*i\n",
        "supports = np.arange(4)\n",
        "storage = np.vectorize(compute)(a, b, supports)\n",
        "\n",
        "print(f\"Example: we can compute under this storage scheme: {[[index, value] for index, value in enumerate(storage)]}\")"
      ],
      "metadata": {
        "colab": {
          "base_uri": "https://localhost:8080/"
        },
        "id": "JU8zSFKFCJFd",
        "outputId": "864735bb-8d2e-475c-a1c0-697a8e75576f"
      },
      "execution_count": 2,
      "outputs": [
        {
          "output_type": "stream",
          "name": "stdout",
          "text": [
            "Example: we can compute under this storage scheme: [[0, 11.0], [1, 26.0], [2, 41.0], [3, 56.0]]\n"
          ]
        }
      ]
    },
    {
      "cell_type": "markdown",
      "source": [
        "Simulation on $2$ distinguishable storage units undamaged:"
      ],
      "metadata": {
        "id": "lhPVip1ONvef"
      }
    },
    {
      "cell_type": "code",
      "source": [
        "remains_i = np.random.choice(4, 2, replace=False)\n",
        "\n",
        "#remains_i = np.array([1,3])\n",
        "\n",
        "remains_e = storage[remains_i]\n",
        "\n",
        "remains = np.concatenate((remains_i[:,None], remains_e[:,None]), axis=1)\n",
        "\n",
        "print(remains)"
      ],
      "metadata": {
        "colab": {
          "base_uri": "https://localhost:8080/"
        },
        "id": "4xKvVpkgb63-",
        "outputId": "b1a0e775-4d17-4e83-f619-f15845f08a46"
      },
      "execution_count": 3,
      "outputs": [
        {
          "output_type": "stream",
          "name": "stdout",
          "text": [
            "[[ 1. 26.]\n",
            " [ 3. 56.]]\n"
          ]
        }
      ]
    },
    {
      "cell_type": "markdown",
      "source": [
        "Simulation on original information retrieved:"
      ],
      "metadata": {
        "id": "bdcUYwHGPGg-"
      }
    },
    {
      "cell_type": "code",
      "source": [
        "def retrieve(remains):\n",
        "  b = (remains[1][1]-remains[0][1])/(remains[1][0]-remains[0][0])\n",
        "  a = remains[1][1] - remains[1][0]*b\n",
        "  return a,b\n",
        "\n",
        "print(f\"Still, we can retrieve the original (a,b) here: {retrieve(remains)}\")"
      ],
      "metadata": {
        "id": "zsJscAdNGSha",
        "colab": {
          "base_uri": "https://localhost:8080/"
        },
        "outputId": "a9ed7ca0-b028-4966-9c55-6d8a11f179a4"
      },
      "execution_count": 4,
      "outputs": [
        {
          "output_type": "stream",
          "name": "stdout",
          "text": [
            "Still, we can retrieve the original (a,b) here: (11.0, 15.0)\n"
          ]
        }
      ]
    },
    {
      "cell_type": "markdown",
      "source": [
        "**The General Case**\n",
        "\n",
        "In general, suppose we are given $n$ information  $a_0,a_1,...,a_{n-1}$ as follows:"
      ],
      "metadata": {
        "id": "nLRcZesUQTQP"
      }
    },
    {
      "cell_type": "code",
      "source": [
        "import ast\n",
        "\n",
        "info = \"10,1,13,15,20,30\" # @param {type: 'string'}\n",
        "infoList = list(ast.literal_eval(str(info)))\n",
        "n = len(infoList)\n",
        "print(f\"Example: given information: {infoList}\")\n",
        "print(f\"Number of information n = {n}\")"
      ],
      "metadata": {
        "colab": {
          "base_uri": "https://localhost:8080/"
        },
        "id": "3cqmbdknf_p7",
        "outputId": "8e2505cb-f554-4855-8c03-ee5146845c08"
      },
      "execution_count": 5,
      "outputs": [
        {
          "output_type": "stream",
          "name": "stdout",
          "text": [
            "Example: given information: [10, 1, 13, 15, 20, 30]\n",
            "Number of information n = 6\n"
          ]
        }
      ]
    },
    {
      "cell_type": "code",
      "source": [
        "def computeS(info,i):\n",
        "  infoList = list(ast.literal_eval(info))\n",
        "  n = len(infoList)\n",
        "  sum = 0\n",
        "  for j in range(n):\n",
        "    sum += infoList[j]*i**j\n",
        "  return sum"
      ],
      "metadata": {
        "id": "bovBjQdAjREc"
      },
      "execution_count": 6,
      "outputs": []
    },
    {
      "cell_type": "markdown",
      "source": [
        "Now, let's extend our storing scheme to a polynomial of degree $n-1$ with $n$ coefficients:\n",
        "$$p(x)=\\sum^{n-1}_{i=0} a_i x^i.$$\n",
        "The storage scheme is just the assignment $S_i = p(i)$ for $i=0,1,...,2n-1$.\n",
        "\n",
        "\\[In the following, we print points of the graph of $[i,S_i]$ for $i=0,1,...,2n-1$. Please make sure previous cells are running properly before proceeding.\\]"
      ],
      "metadata": {
        "id": "ShUQs84LRa9R"
      }
    },
    {
      "cell_type": "code",
      "source": [
        "supportS = np.arange(2*n)\n",
        "storageS = np.vectorize(computeS)(info, supportS)\n",
        "print(f\"Example: we compute under this storgae scheme as {[[index, value] for index, value in enumerate(storageS)]}\")"
      ],
      "metadata": {
        "colab": {
          "base_uri": "https://localhost:8080/"
        },
        "id": "yrzEh4KOlQK1",
        "outputId": "d6b765cd-5f88-418e-e18a-bc75e9feaee6"
      },
      "execution_count": 7,
      "outputs": [
        {
          "output_type": "stream",
          "name": "stdout",
          "text": [
            "Example: we compute under this storgae scheme as [[0, 10], [1, 89], [2, 1464], [3, 9445], [4, 37022], [5, 108465], [6, 262924], [7, 558029], [8, 1073490], [9, 1914697], [10, 3216320], [11, 5145909]]\n"
          ]
        }
      ]
    },
    {
      "cell_type": "markdown",
      "source": [
        "Simulation on $n$ distinguishable storage units undamaged:\n",
        "\n",
        "We print out the list of $[t_i, S_{t_i}]$ where  $t_i\\neq t_j$ for $i\\neq j$, $t_i\\in \\{0,1,...,2n-1\\}$ and $i \\in  \\{0,1,...,n-1\\}$.\n"
      ],
      "metadata": {
        "id": "rNQr34mPS0FB"
      }
    },
    {
      "cell_type": "code",
      "source": [
        "remainS_i = np.random.choice(2*n, n, replace=False)\n",
        "#remains_i = np.array([1,3,2,4,5,9])\n",
        "remainS_e = storageS[remainS_i]\n",
        "remainS = np.concatenate((remainS_i[:,None], remainS_e[:,None]), axis=1)\n",
        "print(f\"Suppose we have only half of the information remain: \\n {remainS}.\")"
      ],
      "metadata": {
        "colab": {
          "base_uri": "https://localhost:8080/"
        },
        "id": "KHAtbJYxpD17",
        "outputId": "a8735067-dcdd-4985-c70a-86bf7770e33a"
      },
      "execution_count": 8,
      "outputs": [
        {
          "output_type": "stream",
          "name": "stdout",
          "text": [
            "Suppose we have only half of the information remain: \n",
            " [[      2    1464]\n",
            " [      0      10]\n",
            " [      7  558029]\n",
            " [      5  108465]\n",
            " [     10 3216320]\n",
            " [      6  262924]].\n"
          ]
        }
      ]
    },
    {
      "cell_type": "markdown",
      "source": [
        "Now, given these $n$ undamaged points $S_{t_i}$ for $i = 0,1,...,n-1$, one can retrieve $p(x)$ by expanding the Lagrange polynomial; and accordingly, retrieve the original information by looking into its coefficients:\n",
        "\n",
        "\n",
        "$$p(x) = \\sum^{n-1}_{j=0} S_{t_j}\\prod_{\\substack{i\\neq j\\\\ 0\\leq i \\leq n-1}} \\frac{x-{t_i}}{ {t_j}  -{t_i}}.$$"
      ],
      "metadata": {
        "id": "c03ykdNGjyFu"
      }
    },
    {
      "cell_type": "code",
      "source": [
        "from sympy import *\n",
        "x = Symbol('x')\n",
        "def retrieveS(remainS):\n",
        "  n = len(remainS)\n",
        "  sPs = [prod([(x - remainS[k][0])/(remainS[j][0]-remainS[k][0]) for k in range(n) if k != j]) for j in range(n)]\n",
        "  P = sum([remainS[j][1]*sPs[j] for j in range(n)])\n",
        "  return expand(P).as_coefficients_dict().values()\n",
        "print(f\"Still, one could retrieve the given infomation here: {str(retrieveS(remainS))}].\")"
      ],
      "metadata": {
        "colab": {
          "base_uri": "https://localhost:8080/"
        },
        "id": "MYBSHrts9jnV",
        "outputId": "c23f730f-fa29-40f2-baa4-8eb10574aa2f"
      },
      "execution_count": 9,
      "outputs": [
        {
          "output_type": "stream",
          "name": "stdout",
          "text": [
            "Still, one could retrieve the given infomation here: dict_values([10, 1, 13, 15, 20, 30])].\n"
          ]
        }
      ]
    },
    {
      "cell_type": "markdown",
      "source": [
        "**Remarks:**\n",
        "1. In reality, Galois fields might be more commonly employed.\n",
        "2. Further reading direction: you may search for error correction codes, such as Reed-Solomon codes.\n",
        "3. The tale in this notebook assumes one know which storage units had been damaged and which ones remain well undamaged. If the damage positions are unknown and one wants to detect them as well, then one would need at least a bit more information. Like, given $2n+1$ storage units, one could make a scheme to restore from at most $n$ unknown storage units damaged. Indeed, we could again make use of a polynomial to make the storage scheme, and the recovery part would be like finding a best-fit solution of some overdetermined system in certain sense."
      ],
      "metadata": {
        "id": "AfGOYu34kDcd"
      }
    }
  ]
}